{
 "cells": [
  {
   "cell_type": "code",
   "execution_count": 1,
   "metadata": {},
   "outputs": [
    {
     "output_type": "execute_result",
     "data": {
      "text/plain": "'bolling|m:2|n:400|leverage:1|open_threshold:0.01|'"
     },
     "metadata": {},
     "execution_count": 1
    }
   ],
   "source": [
    "from cy_widgets.strategy.exchange.bolling import *\n",
    "from cy_widgets.backtest.helper import StrategyHelper\n",
    "StrategyHelper.format_identifier(BollingExchangeStrategy(**{'n': 400, 'm':2, 'open_deviate_threshold': 0.01}))\n",
    "# BollingExchangeStrategy(**{'n': 400, 'm':2, 'open_deviate_threshold': 0.01}).identifier"
   ]
  },
  {
   "cell_type": "code",
   "execution_count": 2,
   "metadata": {},
   "outputs": [
    {
     "output_type": "stream",
     "name": "stdout",
     "text": [
      "       BTCUSDT  XRPUSDT  ZENUSDT\n当前持仓量   -0.004    -25.1     -1.6 \n\n"
     ]
    }
   ],
   "source": [
    "from cy_data_access.connection.connect import *\n",
    "from cy_data_access.models.quant import *\n",
    "from cy_data_access.models.log import *\n",
    "from cy_widgets.strategy.neutral import *\n",
    "from cy_procedure.subject.neutral.proc.binance_swap_neutral import *\n",
    "\n",
    "connect_db_env(db_name=DB_QUANT)\n",
    "connect_db_env(db_name=DB_CONFIG)\n",
    "\n",
    "bc_cfg = BrickCarrierCfg.objects.get({'_id': 3})\n",
    "\n",
    "neu = BinanceSwapNeutral(bc_cfg, '', LogType.BINANCE_NEUTRAL, True)\n",
    "neu.perform_proc()"
   ]
  },
  {
   "cell_type": "code",
   "execution_count": null,
   "metadata": {},
   "outputs": [],
   "source": []
  }
 ],
 "metadata": {
  "language_info": {
   "codemirror_mode": {
    "name": "ipython",
    "version": 3
   },
   "file_extension": ".py",
   "mimetype": "text/x-python",
   "name": "python",
   "nbconvert_exporter": "python",
   "pygments_lexer": "ipython3",
   "version": "3.7.5-final"
  },
  "orig_nbformat": 2,
  "kernelspec": {
   "name": "python3",
   "display_name": "Python 3.7.5 64-bit",
   "metadata": {
    "interpreter": {
     "hash": "80ee594ed1f0f8fa52ab02efb8867e8d1fe9a7efefd553c9d05a22fe95619ba4"
    }
   }
  }
 },
 "nbformat": 4,
 "nbformat_minor": 2
}