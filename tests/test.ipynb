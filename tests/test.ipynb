{
 "cells": [
  {
   "cell_type": "code",
   "execution_count": 1,
   "metadata": {},
   "outputs": [
    {
     "output_type": "execute_result",
     "data": {
      "text/plain": "'bolling|m:2|n:400|leverage:1|open_threshold:0.01|'"
     },
     "metadata": {},
     "execution_count": 1
    }
   ],
   "source": [
    "from cy_widgets.strategy.exchange.bolling import *\n",
    "from cy_widgets.backtest.helper import StrategyHelper\n",
    "StrategyHelper.format_identifier(BollingExchangeStrategy(**{'n': 400, 'm':2, 'open_deviate_threshold': 0.01}))\n",
    "# BollingExchangeStrategy(**{'n': 400, 'm':2, 'open_deviate_threshold': 0.01}).identifier"
   ]
  },
  {
   "cell_type": "code",
   "execution_count": 1,
   "metadata": {
    "tags": []
   },
   "outputs": [
    {
     "output_type": "stream",
     "name": "stdout",
     "text": [
      "       BTCUSDT\n",
      "当前持仓量   -0.004 \n",
      "\n",
      "获取所有币种K线数据完成，花费时间： 0.6607599258422852 80\n",
      "            candle_begin_time      symbol                     s_time  \\\n",
      "0   2021-01-17 14:00:00+00:00   AVAX/USDT  2021-01-17 14:00:00+00:00   \n",
      "1   2021-01-17 14:00:00+00:00    CRV/USDT  2021-01-17 14:00:00+00:00   \n",
      "2   2021-01-17 14:00:00+00:00   IOST/USDT  2021-01-17 14:00:00+00:00   \n",
      "3   2021-01-17 14:00:00+00:00   NEAR/USDT  2021-01-17 14:00:00+00:00   \n",
      "4   2021-01-17 14:00:00+00:00  OCEAN/USDT  2021-01-17 14:00:00+00:00   \n",
      "5   2021-01-17 14:00:00+00:00    REN/USDT  2021-01-17 14:00:00+00:00   \n",
      "6   2021-01-17 14:00:00+00:00    TRB/USDT  2021-01-17 14:00:00+00:00   \n",
      "7   2021-01-17 14:00:00+00:00    ZRX/USDT  2021-01-17 14:00:00+00:00   \n",
      "8   2021-01-17 15:00:00+00:00   AVAX/USDT  2021-01-17 15:00:00+00:00   \n",
      "9   2021-01-17 15:00:00+00:00    CRV/USDT  2021-01-17 15:00:00+00:00   \n",
      "10  2021-01-17 15:00:00+00:00   IOST/USDT  2021-01-17 15:00:00+00:00   \n",
      "11  2021-01-17 15:00:00+00:00   NEAR/USDT  2021-01-17 15:00:00+00:00   \n",
      "12  2021-01-17 15:00:00+00:00  OCEAN/USDT  2021-01-17 15:00:00+00:00   \n",
      "13  2021-01-17 15:00:00+00:00    REN/USDT  2021-01-17 15:00:00+00:00   \n",
      "14  2021-01-17 15:00:00+00:00    TRB/USDT  2021-01-17 15:00:00+00:00   \n",
      "15  2021-01-17 15:00:00+00:00    ZRX/USDT  2021-01-17 15:00:00+00:00   \n",
      "16  2021-01-17 16:00:00+00:00   AVAX/USDT  2021-01-17 16:00:00+00:00   \n",
      "17  2021-01-17 16:00:00+00:00    CRV/USDT  2021-01-17 16:00:00+00:00   \n",
      "18  2021-01-17 16:00:00+00:00   IOST/USDT  2021-01-17 16:00:00+00:00   \n",
      "19  2021-01-17 16:00:00+00:00   NEAR/USDT  2021-01-17 16:00:00+00:00   \n",
      "20  2021-01-17 16:00:00+00:00  OCEAN/USDT  2021-01-17 16:00:00+00:00   \n",
      "21  2021-01-17 16:00:00+00:00    REN/USDT  2021-01-17 16:00:00+00:00   \n",
      "22  2021-01-17 16:00:00+00:00    TRB/USDT  2021-01-17 16:00:00+00:00   \n",
      "23  2021-01-17 16:00:00+00:00    ZRX/USDT  2021-01-17 16:00:00+00:00   \n",
      "\n",
      "                       e_time      close  offset  方向  \n",
      "0   2021-01-17 16:00:00+00:00  12.868400       2   1  \n",
      "1   2021-01-17 16:00:00+00:00   1.598000       2   1  \n",
      "2   2021-01-17 16:00:00+00:00   0.020485       2  -1  \n",
      "3   2021-01-17 16:00:00+00:00   2.664800       2   1  \n",
      "4   2021-01-17 16:00:00+00:00   0.592520       2  -1  \n",
      "5   2021-01-17 16:00:00+00:00   0.642510       2   1  \n",
      "6   2021-01-17 16:00:00+00:00  32.233000       2  -1  \n",
      "7   2021-01-17 16:00:00+00:00   0.602100       2  -1  \n",
      "8   2021-01-17 16:00:00+00:00  12.868400       0   1  \n",
      "9   2021-01-17 16:00:00+00:00   1.598000       0   1  \n",
      "10  2021-01-17 16:00:00+00:00   0.020485       0  -1  \n",
      "11  2021-01-17 16:00:00+00:00   2.664800       0   1  \n",
      "12  2021-01-17 16:00:00+00:00   0.592520       0  -1  \n",
      "13  2021-01-17 16:00:00+00:00   0.642510       0   1  \n",
      "14  2021-01-17 16:00:00+00:00  32.233000       0  -1  \n",
      "15  2021-01-17 16:00:00+00:00   0.602100       0  -1  \n",
      "16  2021-01-17 16:00:00+00:00  12.868400       1   1  \n",
      "17  2021-01-17 16:00:00+00:00   1.598000       1   1  \n",
      "18  2021-01-17 16:00:00+00:00   0.020485       1  -1  \n",
      "19  2021-01-17 16:00:00+00:00   2.664800       1   1  \n",
      "20  2021-01-17 16:00:00+00:00   0.592520       1  -1  \n",
      "21  2021-01-17 16:00:00+00:00   0.642510       1   1  \n",
      "22  2021-01-17 16:00:00+00:00  32.233000       1  -1  \n",
      "23  2021-01-17 16:00:00+00:00   0.602100       1  -1  \n"
     ]
    }
   ],
   "source": [
    "from cy_data_access.connection.connect import *\n",
    "from cy_data_access.models.quant import *\n",
    "from cy_data_access.models.log import *\n",
    "from cy_widgets.strategy.neutral import *\n",
    "from cy_procedure.subject.neutral.proc.binance_swap_neutral import *\n",
    "\n",
    "connect_db_env(db_name=DB_QUANT)\n",
    "connect_db_env(db_name=DB_CONFIG)\n",
    "connect_db_env(db_name=DB_MARKET)\n",
    "\n",
    "bc_cfg = BrickCarrierCfg.objects.get({'_id': 3})\n",
    "\n",
    "neu = BinanceSwapNeutral(bc_cfg, '', LogType.BINANCE_NEUTRAL, True)\n",
    "neu.perform_proc()"
   ]
  },
  {
   "cell_type": "code",
   "execution_count": null,
   "metadata": {},
   "outputs": [],
   "source": []
  }
 ],
 "metadata": {
  "language_info": {
   "codemirror_mode": {
    "name": "ipython",
    "version": 3
   },
   "file_extension": ".py",
   "mimetype": "text/x-python",
   "name": "python",
   "nbconvert_exporter": "python",
   "pygments_lexer": "ipython3",
   "version": "3.7.5-final"
  },
  "orig_nbformat": 2,
  "kernelspec": {
   "name": "python3",
   "display_name": "Python 3.7.5 64-bit",
   "metadata": {
    "interpreter": {
     "hash": "80ee594ed1f0f8fa52ab02efb8867e8d1fe9a7efefd553c9d05a22fe95619ba4"
    }
   }
  }
 },
 "nbformat": 4,
 "nbformat_minor": 2
}