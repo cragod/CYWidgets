{
 "cells": [
  {
   "cell_type": "code",
   "execution_count": 1,
   "metadata": {},
   "outputs": [
    {
     "output_type": "execute_result",
     "data": {
      "text/plain": "'bolling|m:2|n:400|leverage:1|open_threshold:0.01|'"
     },
     "metadata": {},
     "execution_count": 1
    }
   ],
   "source": [
    "from cy_widgets.strategy.exchange.bolling import *\n",
    "from cy_widgets.backtest.helper import StrategyHelper\n",
    "StrategyHelper.format_identifier(BollingExchangeStrategy(**{'n': 400, 'm':2, 'open_deviate_threshold': 0.01}))\n",
    "# BollingExchangeStrategy(**{'n': 400, 'm':2, 'open_deviate_threshold': 0.01}).identifier"
   ]
  },
  {
   "cell_type": "code",
   "execution_count": 1,
   "metadata": {
    "tags": []
   },
   "outputs": [
    {
     "output_type": "stream",
     "name": "stdout",
     "text": [
      "           当前持仓量\n",
      "BTCUSDT   -0.004\n",
      "ETHUSDT    0.000\n",
      "BCHUSDT    0.000\n",
      "XRPUSDT    0.000\n",
      "EOSUSDT    0.000\n",
      "...          ...\n",
      "ALPHAUSDT  0.000\n",
      "ZENUSDT    0.000\n",
      "SKLUSDT    0.000\n",
      "GRTUSDT    0.000\n",
      "1INCHUSDT  0.000\n",
      "\n",
      "[80 rows x 1 columns]\n",
      "       BTCUSDT  LINKUSDT  BNBUSDT\n",
      "当前持仓量   -0.004     -4.83     -2.3 \n",
      "\n",
      "trade_usdt_old： 159.68334037 trade_usdt_new： 159.68334037 \n",
      "\n",
      "     key  策略分配资金_旧  策略分配资金_新\n",
      "0  3h_0H  6.653473  6.653473\n",
      "1  3h_1H  6.653473  6.653473\n",
      "2  3h_2H  6.653473  6.653473\n",
      "2021-01-18 18:00:00\n",
      "获取所有币种K线数据完成，花费时间： 0.752173900604248 80\n",
      "      key                     s_time     symbol  方向  策略分配资金_旧  策略分配资金_新  \\\n",
      "0   3h_2H  2021-01-18 05:00:00+00:00  1INCHUSDT  -1  6.653473  6.653473   \n",
      "1   3h_2H  2021-01-18 05:00:00+00:00   AVAXUSDT  -1  6.653473  6.653473   \n",
      "2   3h_2H  2021-01-18 05:00:00+00:00   IOSTUSDT   1  6.653473  6.653473   \n",
      "3   3h_2H  2021-01-18 05:00:00+00:00   NEARUSDT  -1  6.653473  6.653473   \n",
      "4   3h_2H  2021-01-18 05:00:00+00:00    RENUSDT   1  6.653473  6.653473   \n",
      "5   3h_2H  2021-01-18 05:00:00+00:00  WAVESUSDT   1  6.653473  6.653473   \n",
      "6   3h_2H  2021-01-18 05:00:00+00:00   YFIIUSDT  -1  6.653473  6.653473   \n",
      "7   3h_2H  2021-01-18 05:00:00+00:00    ZENUSDT   1  6.653473  6.653473   \n",
      "8   3h_0H  2021-01-18 06:00:00+00:00    KSMUSDT   1  6.653473  6.653473   \n",
      "9   3h_0H  2021-01-18 06:00:00+00:00    OMGUSDT   1  6.653473  6.653473   \n",
      "10  3h_0H  2021-01-18 06:00:00+00:00    ONTUSDT  -1  6.653473  6.653473   \n",
      "11  3h_0H  2021-01-18 06:00:00+00:00  SUSHIUSDT  -1  6.653473  6.653473   \n",
      "12  3h_0H  2021-01-18 06:00:00+00:00  WAVESUSDT   1  6.653473  6.653473   \n",
      "13  3h_0H  2021-01-18 06:00:00+00:00   YFIIUSDT  -1  6.653473  6.653473   \n",
      "14  3h_0H  2021-01-18 06:00:00+00:00    ZENUSDT   1  6.653473  6.653473   \n",
      "15  3h_1H  2021-01-18 07:00:00+00:00   COMPUSDT  -1  6.653473  6.653473   \n",
      "16  3h_1H  2021-01-18 07:00:00+00:00    KSMUSDT   1  6.653473  6.653473   \n",
      "17  3h_1H  2021-01-18 07:00:00+00:00    OMGUSDT   1  6.653473  6.653473   \n",
      "18  3h_1H  2021-01-18 07:00:00+00:00    ONTUSDT  -1  6.653473  6.653473   \n",
      "19  3h_1H  2021-01-18 07:00:00+00:00  SUSHIUSDT  -1  6.653473  6.653473   \n",
      "20  3h_1H  2021-01-18 07:00:00+00:00  WAVESUSDT   1  6.653473  6.653473   \n",
      "21  3h_1H  2021-01-18 07:00:00+00:00   YFIIUSDT  -1  6.653473  6.653473   \n",
      "22  3h_1H  2021-01-18 07:00:00+00:00    ZENUSDT   1  6.653473  6.653473   \n",
      "\n",
      "      策略分配资金       目标下单量  \n",
      "0   6.653473   -3.244963  \n",
      "1   6.653473   -0.483186  \n",
      "2   6.653473  317.557871  \n",
      "3   6.653473   -2.578066  \n",
      "4   6.653473   10.830101  \n",
      "5   6.653473    0.840945  \n",
      "6   6.653473   -0.003039  \n",
      "7   6.653473    0.206784  \n",
      "8   6.653473    0.057175  \n",
      "9   6.653473    1.593036  \n",
      "10  6.653473   -9.498176  \n",
      "11  6.653473   -0.886043  \n",
      "12  6.653473    0.842585  \n",
      "13  6.653473   -0.002888  \n",
      "14  6.653473    0.208162  \n",
      "15  6.653473   -0.028316  \n",
      "16  6.653473    0.057175  \n",
      "17  6.653473    1.593036  \n",
      "18  6.653473   -9.498176  \n",
      "19  6.653473   -0.886043  \n",
      "20  6.653473    0.842585  \n",
      "21  6.653473   -0.002888  \n",
      "22  6.653473    0.208162   \n",
      "\n",
      "实际下单量：\n",
      "            当前持仓量       目标下单量  目标下单份数       实际下单量\n",
      "BTCUSDT   -0.004    0.000000     NaN    0.004000\n",
      "LINKUSDT  -4.830    0.000000     NaN    4.830000\n",
      "BNBUSDT   -2.300    0.000000     NaN    2.300000\n",
      "ONTUSDT    0.000  -18.996353    -2.0  -18.996353\n",
      "IOSTUSDT   0.000  317.557871     1.0  317.557871\n",
      "COMPUSDT   0.000   -0.028316    -1.0   -0.028316\n",
      "OMGUSDT    0.000    3.186071     2.0    3.186071\n",
      "WAVESUSDT  0.000    2.526115     3.0    2.526115\n",
      "YFIIUSDT   0.000   -0.008814    -3.0   -0.008814\n",
      "SUSHIUSDT  0.000   -1.772086    -2.0   -1.772086\n",
      "AVAXUSDT   0.000   -0.483186    -1.0   -0.483186\n",
      "RENUSDT    0.000   10.830101     1.0   10.830101\n",
      "KSMUSDT    0.000    0.114349     2.0    0.114349\n",
      "NEARUSDT   0.000   -2.578066    -1.0   -2.578066\n",
      "ZENUSDT    0.000    0.623107     3.0    0.623107\n",
      "1INCHUSDT  0.000   -3.244963    -1.0   -3.244963 \n",
      "\n"
     ]
    },
    {
     "output_type": "error",
     "ename": "NameError",
     "evalue": "name 'short_sleep_time' is not defined",
     "traceback": [
      "\u001b[0;31m---------------------------------------------------------------------------\u001b[0m",
      "\u001b[0;31mNameError\u001b[0m                                 Traceback (most recent call last)",
      "\u001b[0;32m<ipython-input-1-3561316511dd>\u001b[0m in \u001b[0;36m<module>\u001b[0;34m\u001b[0m\n\u001b[1;32m     13\u001b[0m \u001b[0;34m\u001b[0m\u001b[0m\n\u001b[1;32m     14\u001b[0m \u001b[0mneu\u001b[0m \u001b[0;34m=\u001b[0m \u001b[0mBinanceSwapNeutral\u001b[0m\u001b[0;34m(\u001b[0m\u001b[0mbc_cfg\u001b[0m\u001b[0;34m,\u001b[0m \u001b[0;34m''\u001b[0m\u001b[0;34m,\u001b[0m \u001b[0mLogType\u001b[0m\u001b[0;34m.\u001b[0m\u001b[0mBINANCE_NEUTRAL\u001b[0m\u001b[0;34m,\u001b[0m \u001b[0;32mTrue\u001b[0m\u001b[0;34m)\u001b[0m\u001b[0;34m\u001b[0m\u001b[0;34m\u001b[0m\u001b[0m\n\u001b[0;32m---> 15\u001b[0;31m \u001b[0mneu\u001b[0m\u001b[0;34m.\u001b[0m\u001b[0mperform_proc\u001b[0m\u001b[0;34m(\u001b[0m\u001b[0;34m)\u001b[0m\u001b[0;34m\u001b[0m\u001b[0;34m\u001b[0m\u001b[0m\n\u001b[0m",
      "\u001b[0;32m~/Staff/Repo/CYGatro/CYProcedure/cy_procedure/subject/neutral/proc/binance_swap_neutral.py\u001b[0m in \u001b[0;36mperform_proc\u001b[0;34m(self)\u001b[0m\n\u001b[1;32m    238\u001b[0m             \u001b[0msymbol_last_price\u001b[0m \u001b[0;34m=\u001b[0m \u001b[0mself\u001b[0m\u001b[0;34m.\u001b[0m\u001b[0m__binance_handler\u001b[0m\u001b[0;34m.\u001b[0m\u001b[0mfetch_binance_ticker_data\u001b[0m\u001b[0;34m(\u001b[0m\u001b[0;34m)\u001b[0m  \u001b[0;31m# 获取币种的最新价格\u001b[0m\u001b[0;34m\u001b[0m\u001b[0;34m\u001b[0m\u001b[0m\n\u001b[1;32m    239\u001b[0m             \u001b[0;31m# self.__binance_handler.place_order(symbol_info, symbol_last_price)  # 下单\u001b[0m\u001b[0;34m\u001b[0m\u001b[0;34m\u001b[0m\u001b[0;34m\u001b[0m\u001b[0m\n\u001b[0;32m--> 240\u001b[0;31m             \u001b[0mtime\u001b[0m\u001b[0;34m.\u001b[0m\u001b[0msleep\u001b[0m\u001b[0;34m(\u001b[0m\u001b[0mshort_sleep_time\u001b[0m\u001b[0;34m)\u001b[0m  \u001b[0;31m# 下单之后休息一段时间\u001b[0m\u001b[0;34m\u001b[0m\u001b[0;34m\u001b[0m\u001b[0m\n\u001b[0m\u001b[1;32m    241\u001b[0m             \u001b[0;32mbreak\u001b[0m\u001b[0;34m\u001b[0m\u001b[0;34m\u001b[0m\u001b[0m\n",
      "\u001b[0;31mNameError\u001b[0m: name 'short_sleep_time' is not defined"
     ]
    }
   ],
   "source": [
    "from cy_data_access.connection.connect import *\n",
    "from cy_data_access.models.quant import *\n",
    "from cy_data_access.models.log import *\n",
    "from cy_widgets.strategy.neutral import *\n",
    "from cy_procedure.subject.neutral.proc.binance_swap_neutral import *\n",
    "\n",
    "connect_db_env(db_name=DB_QUANT)\n",
    "connect_db_env(db_name=DB_CONFIG)\n",
    "connect_db_env(db_name=DB_MARKET)\n",
    "connect_db_env(db_name=DB_POSITION)\n",
    "connect_db_env(db_name=DB_LOG)\n",
    "\n",
    "bc_cfg = BrickCarrierCfg.objects.get({'_id': 3})\n",
    "\n",
    "neu = BinanceSwapNeutral(bc_cfg, 'b12ab39f-0744-4aa7-b358-97620a4415f9', LogType.BINANCE_NEUTRAL, True)\n",
    "neu.perform_proc()"
   ]
  },
  {
   "cell_type": "code",
   "execution_count": null,
   "metadata": {},
   "outputs": [],
   "source": []
  }
 ],
 "metadata": {
  "language_info": {
   "codemirror_mode": {
    "name": "ipython",
    "version": 3
   },
   "file_extension": ".py",
   "mimetype": "text/x-python",
   "name": "python",
   "nbconvert_exporter": "python",
   "pygments_lexer": "ipython3",
   "version": "3.7.5-final"
  },
  "orig_nbformat": 2,
  "kernelspec": {
   "name": "python3",
   "display_name": "Python 3.7.5 64-bit",
   "metadata": {
    "interpreter": {
     "hash": "80ee594ed1f0f8fa52ab02efb8867e8d1fe9a7efefd553c9d05a22fe95619ba4"
    }
   }
  }
 },
 "nbformat": 4,
 "nbformat_minor": 2
}