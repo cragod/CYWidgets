{
 "cells": [
  {
   "cell_type": "code",
   "execution_count": 1,
   "metadata": {},
   "outputs": [
    {
     "output_type": "error",
     "ename": "AttributeError",
     "evalue": "type object 'StrategyHelper' has no attribute 'format_identifier'",
     "traceback": [
      "\u001b[0;31m---------------------------------------------------------------------------\u001b[0m",
      "\u001b[0;31mAttributeError\u001b[0m                            Traceback (most recent call last)",
      "\u001b[0;32m<ipython-input-1-f281796f80b7>\u001b[0m in \u001b[0;36m<module>\u001b[0;34m\u001b[0m\n\u001b[1;32m      1\u001b[0m \u001b[0;32mfrom\u001b[0m \u001b[0mcy_widgets\u001b[0m\u001b[0;34m.\u001b[0m\u001b[0mstrategy\u001b[0m\u001b[0;34m.\u001b[0m\u001b[0mexchange\u001b[0m\u001b[0;34m.\u001b[0m\u001b[0mbolling\u001b[0m \u001b[0;32mimport\u001b[0m \u001b[0;34m*\u001b[0m\u001b[0;34m\u001b[0m\u001b[0;34m\u001b[0m\u001b[0m\n\u001b[1;32m      2\u001b[0m \u001b[0;32mfrom\u001b[0m \u001b[0mcy_widgets\u001b[0m\u001b[0;34m.\u001b[0m\u001b[0mbacktest\u001b[0m\u001b[0;34m.\u001b[0m\u001b[0mhelper\u001b[0m \u001b[0;32mimport\u001b[0m \u001b[0mStrategyHelper\u001b[0m\u001b[0;34m\u001b[0m\u001b[0;34m\u001b[0m\u001b[0m\n\u001b[0;32m----> 3\u001b[0;31m \u001b[0mStrategyHelper\u001b[0m\u001b[0;34m.\u001b[0m\u001b[0mformat_identifier\u001b[0m\u001b[0;34m(\u001b[0m\u001b[0mBollingExchangeStrategy\u001b[0m\u001b[0;34m(\u001b[0m\u001b[0;34m**\u001b[0m\u001b[0;34m{\u001b[0m\u001b[0;34m'n'\u001b[0m\u001b[0;34m:\u001b[0m \u001b[0;36m400\u001b[0m\u001b[0;34m,\u001b[0m \u001b[0;34m'm'\u001b[0m\u001b[0;34m:\u001b[0m\u001b[0;36m2\u001b[0m\u001b[0;34m,\u001b[0m \u001b[0;34m'open_deviate_threshold'\u001b[0m\u001b[0;34m:\u001b[0m \u001b[0;36m0.01\u001b[0m\u001b[0;34m}\u001b[0m\u001b[0;34m)\u001b[0m\u001b[0;34m)\u001b[0m\u001b[0;34m\u001b[0m\u001b[0;34m\u001b[0m\u001b[0m\n\u001b[0m\u001b[1;32m      4\u001b[0m \u001b[0;31m# BollingExchangeStrategy(**{'n': 400, 'm':2, 'open_deviate_threshold': 0.01}).identifier\u001b[0m\u001b[0;34m\u001b[0m\u001b[0;34m\u001b[0m\u001b[0;34m\u001b[0m\u001b[0m\n",
      "\u001b[0;31mAttributeError\u001b[0m: type object 'StrategyHelper' has no attribute 'format_identifier'"
     ]
    }
   ],
   "source": [
    "from cy_widgets.strategy.exchange.bolling import *\n",
    "from cy_widgets.backtest.helper import StrategyHelper\n",
    "StrategyHelper.format_identifier(BollingExchangeStrategy(**{'n': 400, 'm':2, 'open_deviate_threshold': 0.01}))\n",
    "# BollingExchangeStrategy(**{'n': 400, 'm':2, 'open_deviate_threshold': 0.01}).identifier"
   ]
  },
  {
   "cell_type": "code",
   "execution_count": 1,
   "metadata": {
    "tags": []
   },
   "outputs": [
    {
     "output_type": "stream",
     "name": "stdout",
     "text": [
      "**BinanceNeutralStrategy_1**\n",
      "\n",
      "**前次持仓**: \n",
      "SXPUSDT: -7.8\n",
      "YFIIUSDT: 0.007\n",
      "SRMUSDT: 4.0\n",
      "BZRXUSDT: -27.0\n",
      "ICXUSDT: -11.0\n",
      "STORJUSDT: -20.0\n",
      "ENJUSDT: 34.0\n",
      "FLMUSDT: 43.0\n",
      "KSMUSDT: 0.2\n",
      "ZENUSDT: 0.6\n",
      "GRTUSDT: 13.0\n",
      "1INCHUSDT: 9.0\n",
      "\n",
      "trade_usdt_old： 100.0030064 trade_usdt_new： 100.0030064 \n",
      "\n",
      "**账户净值**: 100.0030064 USDT\n",
      "\n",
      "     key  策略分配资金_旧  策略分配资金_新\n",
      "0  3h_0H  8.333584  8.333584\n",
      "1  3h_1H  8.333584  8.333584\n",
      "2  3h_2H  8.333584  8.333584\n",
      "下次执行时间:  2021-01-19 00:00:00\n"
     ]
    }
   ],
   "source": [
    "from cy_data_access.connection.connect import *\n",
    "from cy_data_access.models.quant import *\n",
    "from cy_data_access.models.log import *\n",
    "from cy_widgets.strategy.neutral import *\n",
    "from cy_procedure.subject.neutral.proc.binance_swap_neutral import *\n",
    "\n",
    "connect_db_env(db_name=DB_QUANT)\n",
    "connect_db_env(db_name=DB_CONFIG)\n",
    "connect_db_env(db_name=DB_MARKET)\n",
    "connect_db_env(db_name=DB_POSITION)\n",
    "connect_db_env(db_name=DB_LOG)\n",
    "bc_cfg = BrickCarrierCfg.objects.get({'_id': 3})\n",
    "\n",
    "neu = BinanceSwapNeutral(bc_cfg, 'b12ab39f-0744-4aa7-b358-97620a4415f9', LogType.BINANCE_NEUTRAL, False)\n",
    "neu.perform_proc()"
   ]
  },
  {
   "cell_type": "code",
   "execution_count": null,
   "metadata": {},
   "outputs": [],
   "source": []
  }
 ],
 "metadata": {
  "language_info": {
   "codemirror_mode": {
    "name": "ipython",
    "version": 3
   },
   "file_extension": ".py",
   "mimetype": "text/x-python",
   "name": "python",
   "nbconvert_exporter": "python",
   "pygments_lexer": "ipython3",
   "version": "3.7.5-final"
  },
  "orig_nbformat": 2,
  "kernelspec": {
   "name": "python3",
   "display_name": "Python 3.7.5 64-bit",
   "metadata": {
    "interpreter": {
     "hash": "80ee594ed1f0f8fa52ab02efb8867e8d1fe9a7efefd553c9d05a22fe95619ba4"
    }
   }
  }
 },
 "nbformat": 4,
 "nbformat_minor": 2
}